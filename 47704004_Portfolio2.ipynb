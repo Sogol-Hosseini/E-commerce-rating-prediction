{
 "cells": [
  {
   "cell_type": "markdown",
   "id": "Z88FfJc9lA_T",
   "metadata": {
    "id": "Z88FfJc9lA_T"
   },
   "source": [
    "## Analysis of an E-commerce Dataset Part 2"
   ]
  },
  {
   "cell_type": "markdown",
   "id": "hoq0NwA9lA_V",
   "metadata": {
    "id": "hoq0NwA9lA_V"
   },
   "source": [
    "The goal of the second analysis task is to train linear regression models to predict users' ratings towards items. This involves a standard Data Science workflow: exploring data, building models, making predictions, and evaluating results. In this task, we will explore the impacts of feature selections and different sizes of training/testing data on the model performance. We will use another cleaned combined e-commerce sub-dataset that **is different from** the one in “Analysis of an E-commerce Dataset” task 1."
   ]
  },
  {
   "cell_type": "markdown",
   "id": "f9fd3NU_lA_W",
   "metadata": {
    "id": "f9fd3NU_lA_W"
   },
   "source": [
    "### Import Cleaned E-commerce Dataset\n",
    "The csv file named 'cleaned_ecommerce_dataset.csv' is provided. You may need to use the Pandas method, i.e., `read_csv`, for reading it. After that, please print out its total length."
   ]
  },
  {
   "cell_type": "code",
   "execution_count": 54,
   "id": "PJrb2gtAlA_W",
   "metadata": {
    "id": "PJrb2gtAlA_W"
   },
   "outputs": [],
   "source": [
    "import pandas as pd\n",
    "import matplotlib.pyplot as plt\n",
    "%matplotlib inline\n",
    "import numpy as np\n",
    "\n",
    "from sklearn.model_selection import train_test_split\n",
    "from sklearn import linear_model\n",
    "from sklearn.metrics import r2_score\n",
    "\n",
    "import seaborn as sns"
   ]
  },
  {
   "cell_type": "code",
   "execution_count": 55,
   "id": "d882eeb8",
   "metadata": {},
   "outputs": [
    {
     "name": "stdout",
     "output_type": "stream",
     "text": [
      "2685\n"
     ]
    }
   ],
   "source": [
    "df = pd.read_csv('cleaned_ecommerce_dataset.csv')\n",
    "print(len(df))"
   ]
  },
  {
   "cell_type": "markdown",
   "id": "aqbuU6rglA_X",
   "metadata": {
    "id": "aqbuU6rglA_X"
   },
   "source": [
    "### Explore the Dataset\n",
    "\n",
    "* Use the methods, i.e., `head()` and `info()`, to have a rough picture about the data, e.g., how many columns, and the data types of each column.\n",
    "* As our goal is to predict ratings given other columns, please get the correlations between helpfulness/gender/category/review and rating by using the `corr()` method.\n",
    "\n",
    "  Hints: To get the correlations between different features, you may need to first convert the categorical features (i.e., gender, category and review) into numerial values. For doing this, you may need to import `OrdinalEncoder` from `sklearn.preprocessing` (refer to the useful exmaples [here](https://pbpython.com/categorical-encoding.html))\n",
    "* Please provide ___necessary explanations/analysis___ on the correlations, and figure out which are the ___most___ and ___least___ corrleated features regarding rating. Try to ___discuss___ how the correlation will affect the final prediction results, if we use these features to train a regression model for rating prediction. In what follows, we will conduct experiments to verify your hypothesis."
   ]
  },
  {
   "cell_type": "code",
   "execution_count": 56,
   "id": "W3PImHiElA_X",
   "metadata": {
    "id": "W3PImHiElA_X"
   },
   "outputs": [
    {
     "name": "stdout",
     "output_type": "stream",
     "text": [
      "   userId  timestamp                                           review  \\\n",
      "0    4081      71900                                Not always McCrap   \n",
      "1    4081      72000  I dropped the chalupa even before he told me to   \n",
      "2    4081      72000                     The Wonderful World of Wendy   \n",
      "3    4081     100399                             They actually did it   \n",
      "4    4081     100399                             Hey! Gimme some pie!   \n",
      "\n",
      "                                 item  rating  helpfulness gender  \\\n",
      "0                          McDonald's     4.0          3.0      M   \n",
      "1                           Taco Bell     1.0          4.0      M   \n",
      "2                             Wendy's     5.0          4.0      M   \n",
      "3  South Park: Bigger, Longer & Uncut     5.0          3.0      M   \n",
      "4                        American Pie     3.0          3.0      M   \n",
      "\n",
      "                category  item_id  item_price  user_city  \n",
      "0  Restaurants & Gourmet       41       30.74          4  \n",
      "1  Restaurants & Gourmet       74      108.30          4  \n",
      "2  Restaurants & Gourmet       84       69.00          4  \n",
      "3                 Movies       68      143.11          4  \n",
      "4                 Movies        6      117.89          4  \n",
      "<class 'pandas.core.frame.DataFrame'>\n",
      "RangeIndex: 2685 entries, 0 to 2684\n",
      "Data columns (total 11 columns):\n",
      " #   Column       Non-Null Count  Dtype  \n",
      "---  ------       --------------  -----  \n",
      " 0   userId       2685 non-null   int64  \n",
      " 1   timestamp    2685 non-null   int64  \n",
      " 2   review       2685 non-null   object \n",
      " 3   item         2685 non-null   object \n",
      " 4   rating       2685 non-null   float64\n",
      " 5   helpfulness  2685 non-null   float64\n",
      " 6   gender       2685 non-null   object \n",
      " 7   category     2685 non-null   object \n",
      " 8   item_id      2685 non-null   int64  \n",
      " 9   item_price   2685 non-null   float64\n",
      " 10  user_city    2685 non-null   int64  \n",
      "dtypes: float64(3), int64(4), object(4)\n",
      "memory usage: 230.9+ KB\n",
      "None\n",
      "(2685, 11)\n"
     ]
    },
    {
     "data": {
      "text/plain": [
       "userId           int64\n",
       "timestamp        int64\n",
       "review          object\n",
       "item            object\n",
       "rating         float64\n",
       "helpfulness    float64\n",
       "gender          object\n",
       "category        object\n",
       "item_id          int64\n",
       "item_price     float64\n",
       "user_city        int64\n",
       "dtype: object"
      ]
     },
     "execution_count": 56,
     "metadata": {},
     "output_type": "execute_result"
    }
   ],
   "source": [
    "# How many columns and data types of each column\n",
    "print(df.head())\n",
    "print(df.info())\n",
    "print(df.shape)\n",
    "df.dtypes"
   ]
  },
  {
   "cell_type": "code",
   "execution_count": 57,
   "id": "d44da57b",
   "metadata": {},
   "outputs": [
    {
     "data": {
      "text/html": [
       "<div>\n",
       "<style scoped>\n",
       "    .dataframe tbody tr th:only-of-type {\n",
       "        vertical-align: middle;\n",
       "    }\n",
       "\n",
       "    .dataframe tbody tr th {\n",
       "        vertical-align: top;\n",
       "    }\n",
       "\n",
       "    .dataframe thead th {\n",
       "        text-align: right;\n",
       "    }\n",
       "</style>\n",
       "<table border=\"1\" class=\"dataframe\">\n",
       "  <thead>\n",
       "    <tr style=\"text-align: right;\">\n",
       "      <th></th>\n",
       "      <th>gender</th>\n",
       "      <th>num_gender</th>\n",
       "    </tr>\n",
       "  </thead>\n",
       "  <tbody>\n",
       "    <tr>\n",
       "      <th>0</th>\n",
       "      <td>M</td>\n",
       "      <td>1.0</td>\n",
       "    </tr>\n",
       "    <tr>\n",
       "      <th>1</th>\n",
       "      <td>M</td>\n",
       "      <td>1.0</td>\n",
       "    </tr>\n",
       "    <tr>\n",
       "      <th>2</th>\n",
       "      <td>M</td>\n",
       "      <td>1.0</td>\n",
       "    </tr>\n",
       "    <tr>\n",
       "      <th>3</th>\n",
       "      <td>M</td>\n",
       "      <td>1.0</td>\n",
       "    </tr>\n",
       "    <tr>\n",
       "      <th>4</th>\n",
       "      <td>M</td>\n",
       "      <td>1.0</td>\n",
       "    </tr>\n",
       "  </tbody>\n",
       "</table>\n",
       "</div>"
      ],
      "text/plain": [
       "  gender  num_gender\n",
       "0      M         1.0\n",
       "1      M         1.0\n",
       "2      M         1.0\n",
       "3      M         1.0\n",
       "4      M         1.0"
      ]
     },
     "execution_count": 57,
     "metadata": {},
     "output_type": "execute_result"
    }
   ],
   "source": [
    "#convert the categorical features to numerical\n",
    "from sklearn.preprocessing import OrdinalEncoder\n",
    "\n",
    "ordinalEnc = OrdinalEncoder()\n",
    "df[\"num_gender\"] = ordinalEnc.fit_transform(df[[\"gender\"]])\n",
    "df[[\"gender\", \"num_gender\"]].head()"
   ]
  },
  {
   "cell_type": "code",
   "execution_count": 58,
   "id": "c332bdda",
   "metadata": {},
   "outputs": [
    {
     "data": {
      "text/html": [
       "<div>\n",
       "<style scoped>\n",
       "    .dataframe tbody tr th:only-of-type {\n",
       "        vertical-align: middle;\n",
       "    }\n",
       "\n",
       "    .dataframe tbody tr th {\n",
       "        vertical-align: top;\n",
       "    }\n",
       "\n",
       "    .dataframe thead th {\n",
       "        text-align: right;\n",
       "    }\n",
       "</style>\n",
       "<table border=\"1\" class=\"dataframe\">\n",
       "  <thead>\n",
       "    <tr style=\"text-align: right;\">\n",
       "      <th></th>\n",
       "      <th>helpfulness</th>\n",
       "      <th>num_helpfulness</th>\n",
       "    </tr>\n",
       "  </thead>\n",
       "  <tbody>\n",
       "    <tr>\n",
       "      <th>0</th>\n",
       "      <td>3.0</td>\n",
       "      <td>0.0</td>\n",
       "    </tr>\n",
       "    <tr>\n",
       "      <th>1</th>\n",
       "      <td>4.0</td>\n",
       "      <td>1.0</td>\n",
       "    </tr>\n",
       "    <tr>\n",
       "      <th>2</th>\n",
       "      <td>4.0</td>\n",
       "      <td>1.0</td>\n",
       "    </tr>\n",
       "    <tr>\n",
       "      <th>3</th>\n",
       "      <td>3.0</td>\n",
       "      <td>0.0</td>\n",
       "    </tr>\n",
       "    <tr>\n",
       "      <th>4</th>\n",
       "      <td>3.0</td>\n",
       "      <td>0.0</td>\n",
       "    </tr>\n",
       "  </tbody>\n",
       "</table>\n",
       "</div>"
      ],
      "text/plain": [
       "   helpfulness  num_helpfulness\n",
       "0          3.0              0.0\n",
       "1          4.0              1.0\n",
       "2          4.0              1.0\n",
       "3          3.0              0.0\n",
       "4          3.0              0.0"
      ]
     },
     "execution_count": 58,
     "metadata": {},
     "output_type": "execute_result"
    }
   ],
   "source": [
    "#convert the categorical features to numerical\n",
    "df[\"num_helpfulness\"] = ordinalEnc.fit_transform(df[[\"helpfulness\"]])\n",
    "df[[\"helpfulness\", \"num_helpfulness\"]].head()"
   ]
  },
  {
   "cell_type": "code",
   "execution_count": 59,
   "id": "dee257ec",
   "metadata": {},
   "outputs": [
    {
     "data": {
      "text/html": [
       "<div>\n",
       "<style scoped>\n",
       "    .dataframe tbody tr th:only-of-type {\n",
       "        vertical-align: middle;\n",
       "    }\n",
       "\n",
       "    .dataframe tbody tr th {\n",
       "        vertical-align: top;\n",
       "    }\n",
       "\n",
       "    .dataframe thead th {\n",
       "        text-align: right;\n",
       "    }\n",
       "</style>\n",
       "<table border=\"1\" class=\"dataframe\">\n",
       "  <thead>\n",
       "    <tr style=\"text-align: right;\">\n",
       "      <th></th>\n",
       "      <th>category</th>\n",
       "      <th>num_category</th>\n",
       "    </tr>\n",
       "  </thead>\n",
       "  <tbody>\n",
       "    <tr>\n",
       "      <th>0</th>\n",
       "      <td>Restaurants &amp; Gourmet</td>\n",
       "      <td>8.0</td>\n",
       "    </tr>\n",
       "    <tr>\n",
       "      <th>1</th>\n",
       "      <td>Restaurants &amp; Gourmet</td>\n",
       "      <td>8.0</td>\n",
       "    </tr>\n",
       "    <tr>\n",
       "      <th>2</th>\n",
       "      <td>Restaurants &amp; Gourmet</td>\n",
       "      <td>8.0</td>\n",
       "    </tr>\n",
       "    <tr>\n",
       "      <th>3</th>\n",
       "      <td>Movies</td>\n",
       "      <td>5.0</td>\n",
       "    </tr>\n",
       "    <tr>\n",
       "      <th>4</th>\n",
       "      <td>Movies</td>\n",
       "      <td>5.0</td>\n",
       "    </tr>\n",
       "  </tbody>\n",
       "</table>\n",
       "</div>"
      ],
      "text/plain": [
       "                category  num_category\n",
       "0  Restaurants & Gourmet           8.0\n",
       "1  Restaurants & Gourmet           8.0\n",
       "2  Restaurants & Gourmet           8.0\n",
       "3                 Movies           5.0\n",
       "4                 Movies           5.0"
      ]
     },
     "execution_count": 59,
     "metadata": {},
     "output_type": "execute_result"
    }
   ],
   "source": [
    "#convert the categorical features to numerical\n",
    "df[\"num_category\"] = ordinalEnc.fit_transform(df[[\"category\"]])\n",
    "df[[\"category\", \"num_category\"]].head()"
   ]
  },
  {
   "cell_type": "code",
   "execution_count": 60,
   "id": "49754cc6",
   "metadata": {},
   "outputs": [
    {
     "data": {
      "text/html": [
       "<div>\n",
       "<style scoped>\n",
       "    .dataframe tbody tr th:only-of-type {\n",
       "        vertical-align: middle;\n",
       "    }\n",
       "\n",
       "    .dataframe tbody tr th {\n",
       "        vertical-align: top;\n",
       "    }\n",
       "\n",
       "    .dataframe thead th {\n",
       "        text-align: right;\n",
       "    }\n",
       "</style>\n",
       "<table border=\"1\" class=\"dataframe\">\n",
       "  <thead>\n",
       "    <tr style=\"text-align: right;\">\n",
       "      <th></th>\n",
       "      <th>review</th>\n",
       "      <th>num_review</th>\n",
       "    </tr>\n",
       "  </thead>\n",
       "  <tbody>\n",
       "    <tr>\n",
       "      <th>0</th>\n",
       "      <td>Not always McCrap</td>\n",
       "      <td>1618.0</td>\n",
       "    </tr>\n",
       "    <tr>\n",
       "      <th>1</th>\n",
       "      <td>I dropped the chalupa even before he told me to</td>\n",
       "      <td>1125.0</td>\n",
       "    </tr>\n",
       "    <tr>\n",
       "      <th>2</th>\n",
       "      <td>The Wonderful World of Wendy</td>\n",
       "      <td>2185.0</td>\n",
       "    </tr>\n",
       "    <tr>\n",
       "      <th>3</th>\n",
       "      <td>They actually did it</td>\n",
       "      <td>2243.0</td>\n",
       "    </tr>\n",
       "    <tr>\n",
       "      <th>4</th>\n",
       "      <td>Hey! Gimme some pie!</td>\n",
       "      <td>1033.0</td>\n",
       "    </tr>\n",
       "  </tbody>\n",
       "</table>\n",
       "</div>"
      ],
      "text/plain": [
       "                                            review  num_review\n",
       "0                                Not always McCrap      1618.0\n",
       "1  I dropped the chalupa even before he told me to      1125.0\n",
       "2                     The Wonderful World of Wendy      2185.0\n",
       "3                             They actually did it      2243.0\n",
       "4                             Hey! Gimme some pie!      1033.0"
      ]
     },
     "execution_count": 60,
     "metadata": {},
     "output_type": "execute_result"
    }
   ],
   "source": [
    "#convert the categorical features to numerical\n",
    "df[\"num_review\"] = ordinalEnc.fit_transform(df[[\"review\"]])\n",
    "df[[\"review\", \"num_review\"]].head()"
   ]
  },
  {
   "cell_type": "code",
   "execution_count": 61,
   "id": "10ac3959",
   "metadata": {},
   "outputs": [
    {
     "data": {
      "text/html": [
       "<div>\n",
       "<style scoped>\n",
       "    .dataframe tbody tr th:only-of-type {\n",
       "        vertical-align: middle;\n",
       "    }\n",
       "\n",
       "    .dataframe tbody tr th {\n",
       "        vertical-align: top;\n",
       "    }\n",
       "\n",
       "    .dataframe thead th {\n",
       "        text-align: right;\n",
       "    }\n",
       "</style>\n",
       "<table border=\"1\" class=\"dataframe\">\n",
       "  <thead>\n",
       "    <tr style=\"text-align: right;\">\n",
       "      <th></th>\n",
       "      <th>rating</th>\n",
       "      <th>num_rating</th>\n",
       "    </tr>\n",
       "  </thead>\n",
       "  <tbody>\n",
       "    <tr>\n",
       "      <th>0</th>\n",
       "      <td>4.0</td>\n",
       "      <td>3.0</td>\n",
       "    </tr>\n",
       "    <tr>\n",
       "      <th>1</th>\n",
       "      <td>1.0</td>\n",
       "      <td>0.0</td>\n",
       "    </tr>\n",
       "    <tr>\n",
       "      <th>2</th>\n",
       "      <td>5.0</td>\n",
       "      <td>4.0</td>\n",
       "    </tr>\n",
       "    <tr>\n",
       "      <th>3</th>\n",
       "      <td>5.0</td>\n",
       "      <td>4.0</td>\n",
       "    </tr>\n",
       "    <tr>\n",
       "      <th>4</th>\n",
       "      <td>3.0</td>\n",
       "      <td>2.0</td>\n",
       "    </tr>\n",
       "  </tbody>\n",
       "</table>\n",
       "</div>"
      ],
      "text/plain": [
       "   rating  num_rating\n",
       "0     4.0         3.0\n",
       "1     1.0         0.0\n",
       "2     5.0         4.0\n",
       "3     5.0         4.0\n",
       "4     3.0         2.0"
      ]
     },
     "execution_count": 61,
     "metadata": {},
     "output_type": "execute_result"
    }
   ],
   "source": [
    "#convert the categorical features to numerical\n",
    "df[\"num_rating\"] = ordinalEnc.fit_transform(df[[\"rating\"]])\n",
    "df[[\"rating\", \"num_rating\"]].head()"
   ]
  },
  {
   "cell_type": "code",
   "execution_count": 62,
   "id": "f1e79765",
   "metadata": {},
   "outputs": [
    {
     "name": "stdout",
     "output_type": "stream",
     "text": [
      "-0.007523337726844559\n",
      "-0.03433661424208275\n",
      "-0.1631576534091565\n",
      "-0.03611838655212237\n"
     ]
    }
   ],
   "source": [
    "#correlations between helpfulness/gender/category/review and rating\n",
    "print(df['num_helpfulness'].corr(df['num_rating']))\n",
    "print(df['num_gender'].corr(df['num_rating']))\n",
    "print(df['num_category'].corr(df['num_rating']))\n",
    "print(df['num_review'].corr(df['num_rating']))"
   ]
  },
  {
   "cell_type": "code",
   "execution_count": null,
   "id": "6bee7167",
   "metadata": {},
   "outputs": [],
   "source": [
    "#Please provide necessary explanations/analysis on the correlations (most and least)\n",
    "\n",
    "# Correlation is a relationship between two variables. \n",
    "# The correlation measured on the scale that varies from +1 through 0 to -1. \n",
    "# When one variable increases and the other one increases as well the correlation is positive, \n",
    "# but when one variable increases and the other one decreases, the correlation is negative.\n",
    "# The closer the correlation is to 0, the weaker it is.\n",
    "# The closer the correlation is to -/+1, the stronger it is."
   ]
  },
  {
   "cell_type": "markdown",
   "id": "4myP5igslA_Y",
   "metadata": {
    "id": "4myP5igslA_Y"
   },
   "source": [
    "### Split Training and Testing Data\n",
    "* Machine learning models are trained to help make predictions for the future. Normally, we need to randomly split the dataset into training and testing sets, where we use the training set to train the model, and then leverage the well-trained model to make predictions on the testing set.\n",
    "* To further investigate whether the size of the training/testing data affects the model performance, please random split the data into training and testing sets with different sizes:\n",
    "    * Case 1: training data containing 10% of the entire data;\n",
    "    * Case 2: training data containing 90% of the entire data.\n",
    "* Print the shape of training and testing sets in the two cases."
   ]
  },
  {
   "cell_type": "code",
   "execution_count": 63,
   "id": "JIDMig9blA_Y",
   "metadata": {
    "id": "JIDMig9blA_Y"
   },
   "outputs": [],
   "source": [
    "#Case 1\n",
    "train_case1, test_case1 = train_test_split(df, test_size=0.9, train_size=0.1)"
   ]
  },
  {
   "cell_type": "code",
   "execution_count": 64,
   "id": "098122ef",
   "metadata": {},
   "outputs": [],
   "source": [
    "#Case 2\n",
    "train_case2, test_case2 = train_test_split(df, test_size=0.1, train_size=0.9)"
   ]
  },
  {
   "cell_type": "code",
   "execution_count": 65,
   "id": "7cfcf80f",
   "metadata": {},
   "outputs": [
    {
     "name": "stdout",
     "output_type": "stream",
     "text": [
      "Case 1 Training data shape: (268, 16)\n",
      "Case 1 testing data shape: (2417, 16)\n"
     ]
    }
   ],
   "source": [
    "#Print the shape of training and testing sets in the first case\n",
    "print(\"Case 1 Training data shape:\", train_case1.shape)\n",
    "print(\"Case 1 testing data shape:\", test_case1.shape)"
   ]
  },
  {
   "cell_type": "code",
   "execution_count": 66,
   "id": "7f4bc72b",
   "metadata": {},
   "outputs": [
    {
     "name": "stdout",
     "output_type": "stream",
     "text": [
      "Case 2 Training data shape: (2416, 16)\n",
      "Case 2 testing data shape: (269, 16)\n"
     ]
    }
   ],
   "source": [
    "#Print the shape of training and testing sets in the second case\n",
    "print(\"Case 2 Training data shape:\", train_case2.shape)\n",
    "print(\"Case 2 testing data shape:\", test_case2.shape)"
   ]
  },
  {
   "cell_type": "markdown",
   "id": "DjSsgT0BlA_Y",
   "metadata": {
    "id": "DjSsgT0BlA_Y"
   },
   "source": [
    "### Train Linear Regression Models with Feature Selection under Cases 1 & 2\n",
    "* When training a machine learning model for prediction, we may need to select the most important/correlated input features for more accurate results.\n",
    "* To investigate whether feature selection affects the model performance, please select two most correlated features and two least correlated features from helpfulness/gender/category/review regarding rating, respectively.\n",
    "* Train four linear regression models by following the conditions:\n",
    "    - (model-a) using the training/testing data in case 1 with two most correlated input features\n",
    "    - (model-b) using the training/testing data in case 1 with two least correlated input features\n",
    "    - (model-c) using the training/testing data in case 2 with two most correlated input features\n",
    "    - (model-d) using the training/testing data in case 2 with two least correlated input features\n",
    "* By doing this, we can verify the impacts of the size of traing/testing data on the model performance via comparing model-a and model-c (or model-b and model-d); meanwhile the impacts of feature selection can be validated via comparing model-a and model-b (or model-c and model-d).    "
   ]
  },
  {
   "cell_type": "code",
   "execution_count": 75,
   "id": "d63bcce6",
   "metadata": {},
   "outputs": [
    {
     "data": {
      "text/plain": [
       "LinearRegression()"
      ]
     },
     "execution_count": 75,
     "metadata": {},
     "output_type": "execute_result"
    }
   ],
   "source": [
    "most_correlated= ['num_category', 'num_review']\n",
    "least_correlated= ['num_gender','num_helpfulness']\n",
    "\n",
    "# Model a\n",
    "reg = linear_model.LinearRegression()\n",
    "\n",
    "X_train_a = train_case1[most_correlated]\n",
    "y_train_a = train_case1['num_rating']\n",
    "\n",
    "X_test_a = test_case1[most_correlated]\n",
    "y_test_a = test_case1['num_rating']\n",
    "\n",
    "reg.fit(X_train_a, y_train_a)"
   ]
  },
  {
   "cell_type": "code",
   "execution_count": 82,
   "id": "2964c3a8",
   "metadata": {},
   "outputs": [
    {
     "data": {
      "text/plain": [
       "LinearRegression()"
      ]
     },
     "execution_count": 82,
     "metadata": {},
     "output_type": "execute_result"
    }
   ],
   "source": [
    "# Model b\n",
    "reg = linear_model.LinearRegression()\n",
    "\n",
    "X_train_b = train_case1[least_correlated]\n",
    "y_train_b = train_case1['num_rating']\n",
    "\n",
    "X_test_b = test_case1[least_correlated]\n",
    "y_test_b = test_case1['num_rating']\n",
    "\n",
    "reg.fit(X_train_b, y_train_b)"
   ]
  },
  {
   "cell_type": "code",
   "execution_count": 86,
   "id": "d2be7b29",
   "metadata": {},
   "outputs": [
    {
     "data": {
      "text/plain": [
       "LinearRegression()"
      ]
     },
     "execution_count": 86,
     "metadata": {},
     "output_type": "execute_result"
    }
   ],
   "source": [
    "# Model c\n",
    "reg = linear_model.LinearRegression()\n",
    "\n",
    "X_train_c = train_case2[most_correlated]\n",
    "y_train_c = train_case2['num_rating']\n",
    "\n",
    "X_test_c = test_case2[most_correlated]\n",
    "y_test_c = test_case2['num_rating']\n",
    "\n",
    "reg.fit(X_train_c, y_train_c)"
   ]
  },
  {
   "cell_type": "code",
   "execution_count": 89,
   "id": "8e530db7",
   "metadata": {},
   "outputs": [
    {
     "data": {
      "text/plain": [
       "LinearRegression()"
      ]
     },
     "execution_count": 89,
     "metadata": {},
     "output_type": "execute_result"
    }
   ],
   "source": [
    "# Model d\n",
    "reg = linear_model.LinearRegression()\n",
    "\n",
    "X_train_d = train_case2[least_correlated]\n",
    "y_train_d = train_case2['num_rating']\n",
    "\n",
    "X_test_d = test_case2[least_correlated]\n",
    "y_test_d = test_case2['num_rating']\n",
    "\n",
    "reg.fit(X_train_d, y_train_d)"
   ]
  },
  {
   "cell_type": "markdown",
   "id": "KATSn7hYlA_Z",
   "metadata": {
    "id": "KATSn7hYlA_Z"
   },
   "source": [
    "### Evaluate Models\n",
    "* Evaluate the performance of the four models with two metrics, including MSE and Root MSE\n",
    "* Print the results of the four models regarding the two metrics"
   ]
  },
  {
   "cell_type": "code",
   "execution_count": 80,
   "id": "4fU8GPS9lA_Z",
   "metadata": {
    "id": "4fU8GPS9lA_Z"
   },
   "outputs": [
    {
     "name": "stdout",
     "output_type": "stream",
     "text": [
      "MSE: 1.7318573360418692\n",
      "R Squared: 0.029762508737108284\n",
      "Root MSE:  1.316000507614594\n"
     ]
    }
   ],
   "source": [
    "# Model a\n",
    "predicted = reg.predict(X_test_a)\n",
    "mse_a = ((np.array(y_test_a)-predicted)**2).sum()/len(y_test_a)\n",
    "r2_a = r2_score(y_test_a, predicted)\n",
    "mse_sqr_a = np.sqrt(mse_a)\n",
    "print(\"MSE:\", mse_a)\n",
    "print(\"R Squared:\", r2_a)\n",
    "print(\"Root MSE: \", mse_sqr_a)"
   ]
  },
  {
   "cell_type": "code",
   "execution_count": 84,
   "id": "ddda1d43",
   "metadata": {},
   "outputs": [
    {
     "name": "stdout",
     "output_type": "stream",
     "text": [
      "MSE: 1.790240666914097\n",
      "R Squared: -0.002945552890245118\n",
      "Root MSE:  1.3379987544516239\n"
     ]
    }
   ],
   "source": [
    "# Model b\n",
    "predicted = reg.predict(X_test_b)\n",
    "mse_b = ((np.array(y_test_b)-predicted)**2).sum()/len(y_test_b)\n",
    "r2_b = r2_score(y_test_b, predicted)\n",
    "mse_sqr_b = np.sqrt(mse_b)\n",
    "print(\"MSE:\", mse_b)\n",
    "print(\"R Squared:\", r2_b)\n",
    "print(\"Root MSE: \", mse_sqr_b)"
   ]
  },
  {
   "cell_type": "code",
   "execution_count": 88,
   "id": "65cea560",
   "metadata": {},
   "outputs": [
    {
     "name": "stdout",
     "output_type": "stream",
     "text": [
      "MSE: 1.798324041371416\n",
      "R Squared: 0.0435804880442382\n",
      "Root MSE:  1.3410160481408924\n"
     ]
    }
   ],
   "source": [
    "# Model c\n",
    "predicted = reg.predict(X_test_c)\n",
    "mse_c = ((np.array(y_test_c)-predicted)**2).sum()/len(y_test_c)\n",
    "r2_c = r2_score(y_test_c, predicted)\n",
    "mse_sqr_c = np.sqrt(mse_c)\n",
    "print(\"MSE:\", mse_c)\n",
    "print(\"R Squared:\", r2_c)\n",
    "print(\"Root MSE: \", mse_sqr_c)"
   ]
  },
  {
   "cell_type": "code",
   "execution_count": 90,
   "id": "75230e5c",
   "metadata": {},
   "outputs": [
    {
     "name": "stdout",
     "output_type": "stream",
     "text": [
      "MSE: 1.8963942774805327\n",
      "R Squared: -0.008577123820494359\n",
      "Root MSE:  1.3770963210612874\n"
     ]
    }
   ],
   "source": [
    "# Model d\n",
    "predicted = reg.predict(X_test_d)\n",
    "mse_d = ((np.array(y_test_d)-predicted)**2).sum()/len(y_test_d)\n",
    "r2_d = r2_score(y_test_d, predicted)\n",
    "mse_sqr_d = np.sqrt(mse_d)\n",
    "print(\"MSE:\", mse_d)\n",
    "print(\"R Squared:\", r2_d)\n",
    "print(\"Root MSE: \", mse_sqr_d)"
   ]
  },
  {
   "cell_type": "markdown",
   "id": "Y9jx-eY6lA_a",
   "metadata": {
    "id": "Y9jx-eY6lA_a"
   },
   "source": [
    "### Visualize, Compare and Analyze the Results\n",
    "* Visulize the results, and perform ___insightful analysis___ on the obtained results. For better visualization, you may need to carefully set the scale for the y-axis.\n",
    "* Normally, the model trained with most correlated features and more training data will get better results. Do you obtain the similar observations? If not, please ___explain the possible reasons___."
   ]
  },
  {
   "cell_type": "code",
   "execution_count": 94,
   "id": "3TNAIGDilA_a",
   "metadata": {
    "id": "3TNAIGDilA_a"
   },
   "outputs": [],
   "source": [
    "new1_df = pd.DataFrame({'model':['A', 'C'], 'MSE': [mse_a, mse_c], 'RMSE':[mse_sqr_a, mse_sqr_c]})\n",
    "new2_df = pd.DataFrame({'model':['B', 'D'], 'MSE': [mse_b, mse_d], 'RMSE':[mse_sqr_b, mse_sqr_d]})"
   ]
  },
  {
   "cell_type": "code",
   "execution_count": 95,
   "id": "c2139640",
   "metadata": {},
   "outputs": [
    {
     "data": {
      "text/plain": [
       "<AxesSubplot:xlabel='model'>"
      ]
     },
     "execution_count": 95,
     "metadata": {},
     "output_type": "execute_result"
    },
    {
     "data": {
      "image/png": "[encoded data removed]",
      "text/plain": [
       "<Figure size 640x480 with 1 Axes>"
      ]
     },
     "metadata": {},
     "output_type": "display_data"
    }
   ],
   "source": [
    "new1_df.plot(kind='bar', x='model')"
   ]
  },
  {
   "cell_type": "code",
   "execution_count": 96,
   "id": "8b4fe5cc",
   "metadata": {},
   "outputs": [
    {
     "data": {
      "text/plain": [
       "<AxesSubplot:xlabel='model'>"
      ]
     },
     "execution_count": 96,
     "metadata": {},
     "output_type": "execute_result"
    },
    {
     "data": {
      "image/png": "[encoded data removed]",
      "text/plain": [
       "<Figure size 640x480 with 1 Axes>"
      ]
     },
     "metadata": {},
     "output_type": "display_data"
    }
   ],
   "source": [
    "new2_df.plot(kind='bar', x='model')"
   ]
  },
  {
   "cell_type": "markdown",
   "id": "f9ee01ac",
   "metadata": {
    "id": "f9ee01ac"
   },
   "source": [
    "### Data Science Ethics\n",
    "*Please read the following examples [Click here to read the example_1.](https://www.vox.com/covid-19-coronavirus-us-response-trump/2020/5/18/21262265/georgia-covid-19-cases-declining-reopening) [Click here to read the example_2.](https://viborc.com/ethics-and-ethical-data-visualization-a-complete-guide/)\n",
    "\n",
    "*Then view the picture ![My Image](figure_portfolio2.png \"This is my image\")\n",
    "Please compose an analysis of 100-200 words that evaluates potential ethical concerns associated with the infographic, detailing the reasons behind these issues.\n"
   ]
  },
  {
   "cell_type": "code",
   "execution_count": null,
   "id": "44f30e9b",
   "metadata": {
    "id": "44f30e9b"
   },
   "outputs": [],
   "source": [
    "\n",
    " '''\n",
    " \n",
    " There are a few potential ethical concerns associated with this way of presenting data.\n",
    " Firstly, this infographic prioritizes total medals won which can overshadow a country's performance in specific events or sports.\n",
    " for example, if a country wins a lot of medals in sports with many medal categories, like tennis or basketball, might appear higher in the ranking than a country that wins medals in sports with fewer categories.\n",
    " Secondly, these table are differ just in one thing which how to choose the sort of data and nothing else.\n",
    " Like, table 1 illustrates in how united states led to win the competition but in table 2, it shows how China led to recieve most gold medals in the competition.\n",
    " \n",
    " '''\n"
   ]
  }
 ],
 "metadata": {
  "colab": {
   "provenance": []
  },
  "kernelspec": {
   "display_name": "Python 3 (ipykernel)",
   "language": "python",
   "name": "python3"
  },
  "language_info": {
   "codemirror_mode": {
    "name": "ipython",
    "version": 3
   },
   "file_extension": ".py",
   "mimetype": "text/x-python",
   "name": "python",
   "nbconvert_exporter": "python",
   "pygments_lexer": "ipython3",
   "version": "3.9.13"
  }
 },
 "nbformat": 4,
 "nbformat_minor": 5
}
